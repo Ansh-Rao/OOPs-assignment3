{
 "cells": [
  {
   "cell_type": "markdown",
   "id": "c0e077a2-cd74-4e46-a2a3-015643236a3d",
   "metadata": {},
   "source": [
    "#### Q1. What is Abstraction in OOps? Explain with an example."
   ]
  },
  {
   "cell_type": "code",
   "execution_count": 1,
   "id": "fc665a1a-23d9-4096-9971-d62908d418bd",
   "metadata": {},
   "outputs": [],
   "source": [
    "# Abstraction is the process of hiding the internal details of an application from the outer world."
   ]
  },
  {
   "cell_type": "code",
   "execution_count": 12,
   "id": "97c4c86a-e25f-49c5-96c4-fedc06c5488e",
   "metadata": {},
   "outputs": [],
   "source": [
    "# example\n",
    "\n",
    "import abc\n",
    "class class1:\n",
    "    @abc.abstractmethod\n",
    "    def student_name(self):\n",
    "        pass\n",
    "    @abc.abstractmethod\n",
    "    def student_roll_no(self):\n",
    "        pass\n",
    "    @abc.abstractmethod\n",
    "    def student_marks(self):\n",
    "        pass"
   ]
  },
  {
   "cell_type": "code",
   "execution_count": 13,
   "id": "b07e0443-9910-477e-9dcd-edba30905f7f",
   "metadata": {},
   "outputs": [],
   "source": [
    "class class2(class1):\n",
    "    def student_name(self):\n",
    "        print(\"this is a method of taking student name \")\n",
    "    def student_roll_no(self):\n",
    "        print(\"this is a method of taking student_roll_n0 \")\n",
    "    "
   ]
  },
  {
   "cell_type": "code",
   "execution_count": 14,
   "id": "b864a9e0-d00a-485e-91de-0710143a3ccb",
   "metadata": {},
   "outputs": [],
   "source": [
    "class_objj= class2()"
   ]
  },
  {
   "cell_type": "code",
   "execution_count": 15,
   "id": "fdbf8c0e-afdd-4a4c-8a7d-0f274039986d",
   "metadata": {},
   "outputs": [
    {
     "name": "stdout",
     "output_type": "stream",
     "text": [
      "this is a method of taking student name \n"
     ]
    }
   ],
   "source": [
    "class_objj.student_name()"
   ]
  },
  {
   "cell_type": "code",
   "execution_count": null,
   "id": "2b73b094-bffa-428f-9cca-e14a2ab38b4a",
   "metadata": {},
   "outputs": [],
   "source": []
  },
  {
   "cell_type": "code",
   "execution_count": null,
   "id": "ea6f0f80-c45c-44dc-a5e2-d0d18503ee02",
   "metadata": {},
   "outputs": [],
   "source": []
  },
  {
   "cell_type": "markdown",
   "id": "c9091c45-0817-4bca-99b1-47c4f05e49be",
   "metadata": {},
   "source": [
    "#### Q2. Differentiate between Abstraction and Encapsulation. Explain with an example."
   ]
  },
  {
   "cell_type": "code",
   "execution_count": 16,
   "id": "fed5642e-d7a8-41ae-a1c2-79f28ade1743",
   "metadata": {},
   "outputs": [],
   "source": [
    "# Abstraction is the method of hiding the unwanted information."
   ]
  },
  {
   "cell_type": "code",
   "execution_count": 17,
   "id": "b6a03e40-526b-43d2-aea6-6f18b311c6c9",
   "metadata": {},
   "outputs": [],
   "source": [
    "import abc\n",
    "class class1:\n",
    "    @abc.abstractmethod\n",
    "    def student_name(self):\n",
    "        pass\n",
    "    @abc.abstractmethod\n",
    "    def student_roll_no(self):\n",
    "        pass\n",
    "    @abc.abstractmethod\n",
    "    def student_marks(self):\n",
    "        pass\n",
    "    \n",
    "class class2(class1):\n",
    "    def student_name(self):\n",
    "        print(\"this is a method of taking student name \")\n",
    "    def student_roll_no(self):\n",
    "        print(\"this is a method of taking student_roll_n0 \")"
   ]
  },
  {
   "cell_type": "code",
   "execution_count": 18,
   "id": "75b0665e-76fb-426a-a426-64a0e062d23a",
   "metadata": {},
   "outputs": [],
   "source": [
    "class_objj= class2()"
   ]
  },
  {
   "cell_type": "code",
   "execution_count": 20,
   "id": "7810b6b3-05db-4c75-bda9-f785e66c74d5",
   "metadata": {},
   "outputs": [
    {
     "name": "stdout",
     "output_type": "stream",
     "text": [
      "this is a method of taking student_roll_n0 \n"
     ]
    }
   ],
   "source": [
    "class_objj.student_roll_no()"
   ]
  },
  {
   "cell_type": "code",
   "execution_count": null,
   "id": "a7a65c05-b80f-4b45-9271-15942ea4ba1d",
   "metadata": {},
   "outputs": [],
   "source": []
  },
  {
   "cell_type": "code",
   "execution_count": 21,
   "id": "531b850e-0cfc-4a6e-bac1-ba5d8d8d5c18",
   "metadata": {},
   "outputs": [],
   "source": [
    "# Encapsulation is a method to hide the data in a single entity or unit along with a method to protect information from outside."
   ]
  },
  {
   "cell_type": "code",
   "execution_count": 22,
   "id": "0fde64b1-3bdb-4423-9d00-46516ee1bee9",
   "metadata": {},
   "outputs": [],
   "source": [
    "class car:\n",
    "    def __init__(self,year,make ,model ,speed):\n",
    "        self.__year=year                              # due to \"__\" before \"year\" makes hide this variable = encapsulation\n",
    "        self.__make=make\n",
    "        self.__model=model\n",
    "        self.__speed=0\n",
    "        \n",
    "\n",
    "    def set_speed(self,speed):\n",
    "        self.__speed= 0 if speed < 0 else speed    # this make variable visible\n",
    "    \n",
    "    def get_speed(self):\n",
    "        return self.__speed\n",
    "    "
   ]
  },
  {
   "cell_type": "code",
   "execution_count": 23,
   "id": "27dfc5f4-b164-46ff-bd6a-2fad1e99d01e",
   "metadata": {},
   "outputs": [],
   "source": [
    "c= car(2022,\"tata\" ,\"thor\",280)"
   ]
  },
  {
   "cell_type": "code",
   "execution_count": 24,
   "id": "23b0b91e-9d19-44a5-bfcf-1c115c597d8d",
   "metadata": {},
   "outputs": [
    {
     "data": {
      "text/plain": [
       "2022"
      ]
     },
     "execution_count": 24,
     "metadata": {},
     "output_type": "execute_result"
    }
   ],
   "source": [
    "c._car__year"
   ]
  },
  {
   "cell_type": "code",
   "execution_count": null,
   "id": "5be25d44-7ded-4134-8ac7-31aa30363703",
   "metadata": {},
   "outputs": [],
   "source": []
  },
  {
   "cell_type": "code",
   "execution_count": null,
   "id": "7ac16d1a-0da3-4c1b-97ae-025c4a76ecb2",
   "metadata": {},
   "outputs": [],
   "source": []
  },
  {
   "cell_type": "markdown",
   "id": "bf11f377-ef9b-46d9-8f88-63ff311e82b1",
   "metadata": {},
   "source": [
    "#### Q3. What is abc module in python? Why is it used?"
   ]
  },
  {
   "cell_type": "code",
   "execution_count": 25,
   "id": "091aca33-9b45-4c82-bb79-983eb5b48740",
   "metadata": {},
   "outputs": [],
   "source": [
    "# The 'abc' module in Python library provides the infrastructure for defining custom abstract base classes."
   ]
  },
  {
   "cell_type": "code",
   "execution_count": 26,
   "id": "8033acac-6be5-45ca-9c10-42d69f4464c2",
   "metadata": {},
   "outputs": [],
   "source": [
    "#  \"abc\" stands for \"abstract base class\"."
   ]
  },
  {
   "cell_type": "code",
   "execution_count": 27,
   "id": "15622806-a70b-4ee3-8d85-c5d8d23c647a",
   "metadata": {},
   "outputs": [],
   "source": [
    "# 'abc' works by marking methods of the base class as abstract. This is done by @absttractmethod decorator."
   ]
  },
  {
   "cell_type": "code",
   "execution_count": null,
   "id": "4b57a76a-ca80-4880-b663-e1b01352dd42",
   "metadata": {},
   "outputs": [],
   "source": []
  },
  {
   "cell_type": "code",
   "execution_count": null,
   "id": "b1b97773-1903-41d0-8a53-af542a503525",
   "metadata": {},
   "outputs": [],
   "source": []
  },
  {
   "cell_type": "markdown",
   "id": "300634ee-05f7-43a8-a0ac-86e247bc6a98",
   "metadata": {},
   "source": [
    "#### Q4. How can we achieve data abstraction ?"
   ]
  },
  {
   "cell_type": "code",
   "execution_count": 28,
   "id": "01ff3f01-724e-4554-88d8-26b3417947cc",
   "metadata": {},
   "outputs": [],
   "source": [
    "# Data Abstraction in Python can be achieved through creating abstract classes and inheriting them later."
   ]
  },
  {
   "cell_type": "code",
   "execution_count": 29,
   "id": "0fd1a9b8-99fd-4322-a83b-052fcf1f64ba",
   "metadata": {},
   "outputs": [],
   "source": [
    "import abc\n",
    "class class1:\n",
    "    @abc.abstractmethod\n",
    "    def student_name(self):\n",
    "        pass\n",
    "    @abc.abstractmethod\n",
    "    def student_roll_no(self):\n",
    "        pass\n",
    "    @abc.abstractmethod\n",
    "    def student_marks(self):\n",
    "        pass\n",
    "    \n",
    "class class2(class1):\n",
    "    def student_name(self):\n",
    "        print(\"this is a method of taking student name \")\n",
    "    def student_roll_no(self):\n",
    "        print(\"this is a method of taking student_roll_n0 \")"
   ]
  },
  {
   "cell_type": "code",
   "execution_count": 30,
   "id": "cc69963b-4e98-46fa-8f19-ec5646d8ee21",
   "metadata": {},
   "outputs": [],
   "source": [
    "class_objj= class2()"
   ]
  },
  {
   "cell_type": "code",
   "execution_count": 31,
   "id": "fe8723a4-5063-4598-8604-7634d364c1c1",
   "metadata": {},
   "outputs": [
    {
     "name": "stdout",
     "output_type": "stream",
     "text": [
      "this is a method of taking student name \n"
     ]
    }
   ],
   "source": [
    "class_objj.student_name()"
   ]
  },
  {
   "cell_type": "code",
   "execution_count": null,
   "id": "71886b03-f687-46c7-bd9d-6135418f39c0",
   "metadata": {},
   "outputs": [],
   "source": []
  },
  {
   "cell_type": "code",
   "execution_count": null,
   "id": "0502f18c-46d3-4fb8-9908-21590b6f663e",
   "metadata": {},
   "outputs": [],
   "source": []
  },
  {
   "cell_type": "markdown",
   "id": "af26d3dc-9e5e-450a-a214-81e12cb6e7c8",
   "metadata": {},
   "source": [
    "#### Q5. Can we create an instance of an abstract class? Explain your answer."
   ]
  },
  {
   "cell_type": "code",
   "execution_count": 32,
   "id": "1951a4d6-7e16-4039-b110-18a84a7309f1",
   "metadata": {},
   "outputs": [],
   "source": [
    "# Abstract classes cannot be instantiated, but they can be subclassed."
   ]
  },
  {
   "cell_type": "code",
   "execution_count": 34,
   "id": "71f92a1a-d923-41f2-a478-a32de02a00fd",
   "metadata": {},
   "outputs": [],
   "source": [
    "from abc import ABC, abstractmethod\n",
    "\n",
    "\n",
    "class AbstractClassName(ABC):\n",
    "    @abstractmethod\n",
    "    def abstract_method_name(self):\n",
    "        pass\n"
   ]
  },
  {
   "cell_type": "code",
   "execution_count": null,
   "id": "d7ce385e-9cea-410d-a151-4412aec6c6ea",
   "metadata": {},
   "outputs": [],
   "source": []
  }
 ],
 "metadata": {
  "kernelspec": {
   "display_name": "Python 3 (ipykernel)",
   "language": "python",
   "name": "python3"
  },
  "language_info": {
   "codemirror_mode": {
    "name": "ipython",
    "version": 3
   },
   "file_extension": ".py",
   "mimetype": "text/x-python",
   "name": "python",
   "nbconvert_exporter": "python",
   "pygments_lexer": "ipython3",
   "version": "3.10.8"
  }
 },
 "nbformat": 4,
 "nbformat_minor": 5
}
